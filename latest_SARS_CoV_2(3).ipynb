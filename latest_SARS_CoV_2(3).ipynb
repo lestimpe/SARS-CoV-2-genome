{
  "nbformat": 4,
  "nbformat_minor": 0,
  "metadata": {
    "colab": {
      "name": "latest SARS-CoV-2(3).ipynb",
      "provenance": [],
      "collapsed_sections": [],
      "include_colab_link": true
    },
    "kernelspec": {
      "name": "python3",
      "display_name": "Python 3"
    },
    "language_info": {
      "name": "python"
    }
  },
  "cells": [
    {
      "cell_type": "markdown",
      "metadata": {
        "id": "view-in-github",
        "colab_type": "text"
      },
      "source": [
        "<a href=\"https://colab.research.google.com/github/lestimpe/SARS-CoV-2-genome/blob/main/latest_SARS_CoV_2(3).ipynb\" target=\"_parent\"><img src=\"https://colab.research.google.com/assets/colab-badge.svg\" alt=\"Open In Colab\"/></a>"
      ]
    },
    {
      "cell_type": "markdown",
      "metadata": {
        "id": "hBc-BDc3VHPF"
      },
      "source": [
        "# Messenger RNA Vaccines (3)\n",
        "\n",
        "The sequence of the Wuhan isolate of SARS CoV-2 was published in January of 2020.  Immediately some scientists at the NIH, who had previous experience designing mRNA vaccines, chose part of the sequence to include in an mRNA vaccine for SARS CoV-2. They picked the spike protein, because it projects from the surface of the virus, and hence is likely to be antigenic (recall that an *antigen* is antibody-generating, it provokes the immune system to make antibodies).  They shared the sequence with Moderna, a biotech company that was attempting to use mRNA for various therapeutics.  \n",
        "\n",
        "The idea of the vaccine is to inject mRNA into a person's muscle.  The mRNA should be taken up by muscle cells, and direct the synthesis of spike proteins.  These would be expressed on the surface of muscle cells, and, since they are foreign to the body, elicit an immune response.  If the person were exposed to SARS CoV-2 later, the body would already be prepared to fight off the infection.\n",
        "\n",
        "There are potential problems, however.  Messenger RNA is not very stable in the body extracellularly (outside of cells), and it is not taken up efficiently across the cell membrane into cells.  Moderna (and other companies) have developed a *lipid nanoparticle* technology that helped solve these problems.  So, once the best sequence was chosen, the mRNA itself could be easily synthesized, then packaged for delivery in nanoparticles.\n",
        "\n",
        "We are going to compare the sequences of the BioNTech/Pfizer and Moderna mRNA vaccines with that of the Wuhan isolate.  In order to complete this notebook you need to copy two files from iLearn into your Downloads file.\n",
        "\n",
        "Run the following code cell to prepare the notebook:"
      ]
    },
    {
      "cell_type": "code",
      "metadata": {
        "id": "D-Pd_beFcD76"
      },
      "source": [
        "!pip install biopython\n",
        "import Bio\n",
        "from Bio import Entrez\n",
        "from Bio import SeqIO\n",
        "from Bio import GenBank"
      ],
      "execution_count": null,
      "outputs": []
    },
    {
      "cell_type": "markdown",
      "metadata": {
        "id": "fMMXBAvikBMq"
      },
      "source": [
        "This one gets the Wuhan isolate nucleotide sequence from the NCBI:"
      ]
    },
    {
      "cell_type": "code",
      "metadata": {
        "id": "ioUaC4jchu5W"
      },
      "source": [
        "Entrez.email = 'A.N.Other@example.com'\n",
        "with Entrez.efetch(\n",
        "    db=\"nucleotide\", rettype=\"gb\", retmode=\"text\", id=\"NC_045512.2\"\n",
        ") as handle:\n",
        "    Wuhan_record = SeqIO.read(handle, \"genbank\")\n",
        "print(\"%s with %i features\" % (Wuhan_record.id, len(Wuhan_record.features)))"
      ],
      "execution_count": null,
      "outputs": []
    },
    {
      "cell_type": "markdown",
      "metadata": {
        "id": "4qThlI9nkMow"
      },
      "source": [
        "Some scientists at Stanford determined the mRNA sequences from the Moderna and Pfizer vaccines.  (Apparently the companies have not been eager to publish the sequences themselves.)  The next code cell gets those sequences.  You should have already copied the two files from iLearn to your Downloads file.  After you start the code cell, click on Choose Files at the bottom, and get the Moderna and BioNTech sequences from your Downloads file."
      ]
    },
    {
      "cell_type": "code",
      "metadata": {
        "colab": {
          "resources": {
            "http://localhost:8080/nbextensions/google.colab/files.js": {
              "data": "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",
              "ok": true,
              "headers": [
                [
                  "content-type",
                  "application/javascript"
                ]
              ],
              "status": 200,
              "status_text": ""
            }
          },
          "base_uri": "https://localhost:8080/",
          "height": 89
        },
        "id": "w8tProQ8cLpA",
        "outputId": "09bbef9b-ace5-43ab-cae3-3cac18935d48"
      },
      "source": [
        "from google.colab import files\n",
        "\n",
        "uploaded = files.upload()\n",
        "\n",
        "for fn in uploaded.keys():\n",
        "  print('User uploaded file \"{name}\" with length {length} bytes'.format(\n",
        "      name=fn, length=len(uploaded[fn])))"
      ],
      "execution_count": null,
      "outputs": [
        {
          "output_type": "display_data",
          "data": {
            "text/html": [
              "\n",
              "     <input type=\"file\" id=\"files-c375d2c9-84aa-430d-8775-4f0590cbc23a\" name=\"files[]\" multiple disabled\n",
              "        style=\"border:none\" />\n",
              "     <output id=\"result-c375d2c9-84aa-430d-8775-4f0590cbc23a\">\n",
              "      Upload widget is only available when the cell has been executed in the\n",
              "      current browser session. Please rerun this cell to enable.\n",
              "      </output>\n",
              "      <script src=\"/nbextensions/google.colab/files.js\"></script> "
            ],
            "text/plain": [
              "<IPython.core.display.HTML object>"
            ]
          },
          "metadata": {}
        },
        {
          "output_type": "stream",
          "name": "stdout",
          "text": [
            "Saving mRNA_Moderna.txt to mRNA_Moderna.txt\n",
            "User uploaded file \"mRNA_Moderna.txt\" with length 4184 bytes\n"
          ]
        }
      ]
    },
    {
      "cell_type": "markdown",
      "metadata": {
        "id": "xJnu371Idhux"
      },
      "source": [
        "The next two code cells display the BioNTech and Moderna nucleotide sequences:"
      ]
    },
    {
      "cell_type": "code",
      "metadata": {
        "id": "8izZMWkuhauB"
      },
      "source": [
        "for seq_record in SeqIO.parse(\"mRNA_BioNTech.txt\", \"fasta\"):\n",
        "    print(seq_record.id)\n",
        "    print(seq_record.seq)\n",
        "    BioNTech_record = seq_record\n",
        "    print(len(seq_record))"
      ],
      "execution_count": null,
      "outputs": []
    },
    {
      "cell_type": "code",
      "metadata": {
        "id": "i471z-WFRajc"
      },
      "source": [
        "for seq_record in SeqIO.parse(\"mRNA_Moderna.txt\", \"fasta\"):\n",
        "    print(seq_record.id)\n",
        "    print(seq_record.seq)\n",
        "    Moderna_record = seq_record\n",
        "    print(len(seq_record))"
      ],
      "execution_count": null,
      "outputs": []
    },
    {
      "cell_type": "markdown",
      "metadata": {
        "id": "Ensadf5JeEUG"
      },
      "source": [
        "In a sequence *alignment*, two or more sequences are arranged to line up the corresponding nucleotides or amino acids.  We are going to do pairwise sequence alignments.  \n",
        "\n",
        "There are very many ways to align sequences of the size we are working with.  For each alignment the computer calculates a score, adding points for correct matches of nucleotides, and subtracting points for mismatches or adding gaps.  Then the alignment (or perhaps more than one) with the highest score is returned by the program.  The following code cell gets the code module we need, and assigns values to the different parameters."
      ]
    },
    {
      "cell_type": "code",
      "metadata": {
        "id": "8ERHZuSeiXz3"
      },
      "source": [
        "from Bio import Align\n",
        "aligner = Align.PairwiseAligner()\n",
        "aligner.mode = 'local'\n",
        "aligner.mismatch_score = -2\n",
        "aligner.target_internal_open_gap_score = -10.000000\n",
        "aligner.target_internal_extend_gap_score = -0.500000\n",
        "aligner.target_left_open_gap_score = -10.000000\n",
        "aligner.target_left_extend_gap_score = -0.500000\n",
        "aligner.target_right_open_gap_score = -10.000000\n",
        "aligner.target_right_extend_gap_score = -0.500000\n",
        "aligner.query_internal_open_gap_score = -10.000000\n",
        "aligner.query_internal_extend_gap_score = -0.500000\n",
        "aligner.query_left_open_gap_score = -10.000000\n",
        "aligner.query_left_extend_gap_score = -0.500000\n",
        "aligner.query_right_open_gap_score = -10.000000\n",
        "aligner.query_right_extend_gap_score = -0.500000\n",
        "alignments = aligner.align(Wuhan_record.seq, BioNTech_record.seq)"
      ],
      "execution_count": null,
      "outputs": []
    },
    {
      "cell_type": "markdown",
      "metadata": {
        "id": "oaFQS1L-fi9t"
      },
      "source": [
        "Now let's compare the nucleotide sequences of the two mRNA vaccines.  Run the code cell.  You will see the two sequences displayed horizontally, Moderna on top.  Vertical lines connect nucleotides that are the same.  Within the aligned sequence dots appear where the two nucleotides differ.  Outside the aligned region there are 5' and 3' sequences that do not match at all.  Use the scroll bar to scan horizontally to the end of the sequence to the right.  The two nucleotide sequences are similar, but not identical."
      ]
    },
    {
      "cell_type": "code",
      "metadata": {
        "id": "URUIeHAcSfRy"
      },
      "source": [
        "alignmentBvsM = aligner.align(Moderna_record.seq, BioNTech_record.seq)\n",
        "print(alignmentBvsM[0])"
      ],
      "execution_count": null,
      "outputs": []
    },
    {
      "cell_type": "markdown",
      "metadata": {
        "id": "EyfwxyDChr7f"
      },
      "source": [
        "We are more interested in amino acid sequence than in nucleotide sequence, since translation will occur in lung cells or muscle cells.  The next two code blocks translate the two mRNA sequences, giving the amino acid sequences using their single letter abbreviations."
      ]
    },
    {
      "cell_type": "code",
      "metadata": {
        "id": "ebbA4rpdo6Ub"
      },
      "source": [
        "BioNTech_aa = BioNTech_record.seq.translate()\n",
        "print(BioNTech_aa)"
      ],
      "execution_count": null,
      "outputs": []
    },
    {
      "cell_type": "code",
      "metadata": {
        "id": "uLc9oAE4YOnM"
      },
      "source": [
        "Moderna_aa = Moderna_record.seq.translate()\n",
        "print(Moderna_aa)"
      ],
      "execution_count": null,
      "outputs": []
    },
    {
      "cell_type": "markdown",
      "metadata": {
        "id": "D2pvjOzojQki"
      },
      "source": [
        "In the Moderna sequence you see some asterisks; these are stop codons.\n",
        "\n",
        "We also need to translate the Wuhan isolate sequence, but the sequence uploaded from the NCBI is in the wrong reading frame for the spike protein.  So, in the next code box we remove the first nucleotide, shifting into the correct reading frame.  All genes in this virus do not have the same reading frame, but we are interested in the spike protein here, so we need the right one for spike.  "
      ]
    },
    {
      "cell_type": "markdown",
      "metadata": {
        "id": "hCNOcOKedFb_"
      },
      "source": [
        ""
      ]
    },
    {
      "cell_type": "code",
      "metadata": {
        "id": "gaLSKpMOqbdB"
      },
      "source": [
        "from Bio.Seq import MutableSeq\n",
        "mutable_seq = MutableSeq(Wuhan_record.seq)\n",
        "mutable_seq.remove(\"A\")"
      ],
      "execution_count": null,
      "outputs": []
    },
    {
      "cell_type": "markdown",
      "metadata": {
        "id": "mC_tfWJyYwmu"
      },
      "source": [
        "Now we are ready to align the Wuhan isolate (entire sequence) with the translated spike protein sequence from the BioNTech vaccine.  Remember that the spike gene is near the 3' end of the genome."
      ]
    },
    {
      "cell_type": "code",
      "metadata": {
        "id": "xxL1rUGLTPOR"
      },
      "source": [
        "alignmentWvsB_aa = aligner.align(mutable_seq.translate(), BioNTech_aa)\n",
        "print(alignmentWvsB_aa[0])"
      ],
      "execution_count": null,
      "outputs": []
    },
    {
      "cell_type": "markdown",
      "metadata": {
        "id": "oBIPyDaJZkRv"
      },
      "source": [
        "Here is the Wuhan isolate aligned with the Moderna translated sequence:"
      ]
    },
    {
      "cell_type": "code",
      "metadata": {
        "id": "scZxZOOaTsy_"
      },
      "source": [
        "alignmentWvsM_aa = aligner.align(mutable_seq.translate(), Moderna_aa)\n",
        "print(alignmentWvsM_aa[0])"
      ],
      "execution_count": null,
      "outputs": []
    },
    {
      "cell_type": "markdown",
      "metadata": {
        "id": "4u29FFXYc-rD"
      },
      "source": [
        "Find the overlap between the translated Wuhan isolate and vaccine mRNA sequences in each of the two alignments.  Are they different, or are they the same?  What conclusion might you draw about the mechanism of action of the two vaccines?"
      ]
    }
  ]
}