{
  "nbformat": 4,
  "nbformat_minor": 0,
  "metadata": {
    "colab": {
      "name": "Comparing Wuhan And Unknown(4).ipynb",
      "provenance": [],
      "collapsed_sections": [],
      "authorship_tag": "ABX9TyNNkpzURNRg25J9tCUhkgnX",
      "include_colab_link": true
    },
    "kernelspec": {
      "name": "python3",
      "display_name": "Python 3"
    },
    "language_info": {
      "name": "python"
    }
  },
  "cells": [
    {
      "cell_type": "markdown",
      "metadata": {
        "id": "view-in-github",
        "colab_type": "text"
      },
      "source": [
        "<a href=\"https://colab.research.google.com/github/lestimpe/SARS-CoV-2-genome/blob/main/Comparing_Wuhan_And_Unknown(4).ipynb\" target=\"_parent\"><img src=\"https://colab.research.google.com/assets/colab-badge.svg\" alt=\"Open In Colab\"/></a>"
      ]
    },
    {
      "cell_type": "markdown",
      "metadata": {
        "id": "ZEfXFD17m4D0"
      },
      "source": [
        "# **Comparing the Wuhan isolate with two variants**\n",
        "\n",
        "We will download the genomic sequences from the Wuhan isolate, a delta variant and an unknown that you will classify at the end of this notebook.  First we install Biopython and other packages:"
      ]
    },
    {
      "cell_type": "code",
      "metadata": {
        "id": "6nBcFEsnlx0t"
      },
      "source": [
        "!pip install biopython\n",
        "import Bio\n",
        "from Bio import Entrez\n",
        "from Bio import SeqIO\n",
        "from Bio import GenBank\n",
        "from Bio import Align\n",
        "from Bio import AlignIO\n",
        "from Bio.Seq import Seq\n",
        "from Bio.SeqRecord import SeqRecord\n",
        "import requests, sys, json, csv"
      ],
      "execution_count": null,
      "outputs": []
    },
    {
      "cell_type": "markdown",
      "metadata": {
        "id": "lI263P6vnelp"
      },
      "source": [
        "The next code cell downloads the three genomic sequences:"
      ]
    },
    {
      "cell_type": "code",
      "metadata": {
        "id": "6eEXZlkwmWJ4"
      },
      "source": [
        "Entrez.email = 'A.N.Other@example.com'\n",
        "with Entrez.efetch(\n",
        "    db=\"nucleotide\", rettype=\"gb\", retmode=\"text\", id=\"NC_045512.2\"\n",
        ") as handle:\n",
        "    Wuhan_record = SeqIO.read(handle, \"genbank\")\n",
        "print(\"%s with %i features\" % (Wuhan_record.id, len(Wuhan_record.features)))\n",
        "\n",
        "Entrez.email = 'A.N.Other@example.com'\n",
        "with Entrez.efetch(\n",
        "    db=\"nucleotide\", rettype=\"gb\", retmode=\"text\", id=\"MZ077342.1\"\n",
        ") as handle:\n",
        "    Delta_record = SeqIO.read(handle, \"genbank\")\n",
        "print(\"%s with %i features\" % (Delta_record.id, len(Delta_record.features)))\n",
        "\n",
        "Entrez.email = 'A.N.Other@example.com'\n",
        "with Entrez.efetch(\n",
        "    db=\"nucleotide\", rettype=\"gb\", retmode=\"text\", id=\"MZ007342.1\"\n",
        ") as handle:\n",
        "    Unknown_record = SeqIO.read(handle, \"genbank\")\n",
        "print(\"%s with %i features\" % (Unknown_record.id, len(Unknown_record.features)))"
      ],
      "execution_count": null,
      "outputs": []
    },
    {
      "cell_type": "markdown",
      "metadata": {
        "id": "EF_gr4xpCSys"
      },
      "source": [
        "In a sequence *alignment*, two or more sequences are arranged to line up the corresponding nucleotides or amino acids.  Remember that there are three reading frames per strand. After making sure that the spike sequences are in the same reading frame, we align them using PairwiseAligner.  The next code cell sets up PairwiseAligner."
      ]
    },
    {
      "cell_type": "code",
      "metadata": {
        "id": "DvhBAZi-aIKT"
      },
      "source": [
        "aligner = Align.PairwiseAligner()\n",
        "aligner.mode = 'local'\n",
        "aligner.mismatch_score = -10\n",
        "aligner.target_internal_open_gap_score = -20.000000\n",
        "aligner.target_internal_extend_gap_score = -5.00000\n",
        "aligner.target_left_open_gap_score = -10.000000\n",
        "aligner.target_left_extend_gap_score = -0.500000\n",
        "aligner.target_right_open_gap_score = -10.000000\n",
        "aligner.target_right_extend_gap_score = -0.500000\n",
        "aligner.query_internal_open_gap_score = -10.000000\n",
        "aligner.query_internal_extend_gap_score = -0.500000\n",
        "aligner.query_left_open_gap_score = -10.000000\n",
        "aligner.query_left_extend_gap_score = -0.500000\n",
        "aligner.query_right_open_gap_score = -10.000000\n",
        "aligner.query_right_extend_gap_score = -0.500000"
      ],
      "execution_count": 4,
      "outputs": []
    },
    {
      "cell_type": "markdown",
      "metadata": {
        "id": "bLRVJ1O8ERDc"
      },
      "source": [
        "Now we run the aligner.  The output is the amino acid sequence in the single letter code, Wuhan isolate on top.  "
      ]
    },
    {
      "cell_type": "code",
      "metadata": {
        "id": "CYiZq96TNLLC"
      },
      "source": [
        "spikeW = Wuhan_record.seq[21562:25384].translate()\n",
        "spikeD = Delta_record.seq[21525:25427].translate()\n",
        "spikeU = Unknown_record.seq[21523:25427].translate()\n",
        "alignmentWvsD_aa = aligner.align(spikeW, spikeD)\n",
        "\n",
        "print(alignmentWvsD_aa[0])"
      ],
      "execution_count": null,
      "outputs": []
    },
    {
      "cell_type": "markdown",
      "metadata": {
        "id": "egJHbbAVISqR"
      },
      "source": [
        "Notice that the first amino acid is M, or methionine, as expected.  If you scroll all the way to the end of the sequence you will see asterisks, corresponding to the stop codons, the end of translation and the end of the open reading frame.\n",
        "\n",
        "The missense mutations and gaps are represented by dots and dashes, respectively.  Scrolling back to the beginning, you will see where the program has aligned LIV in the Wuhan isolate with XXX in the Delta.  There is no amino acid X in the single letter code.  This is a region of nine nucleotides in Delta in which the sequencing failed to identify the nucleotides.  The technology is not perfect, and these things happen.  Not knowing what the amino acids are, the aligner program uses X.\n",
        "\n",
        "Near the beginning of the sequence you will see T (threonine) in the Wuhan isolate paired with R (arginine) in Delta.  The dot indicates a mismatch.  This mutation is represented as T19R, where 19 is the position of the amino acid.   It is a missense mutation. Each variant is defined by its mutations.  There is a list for a few common variants in a document called *Variants_Spike_mutations* that is at github and should be in your Downloads file. If the sequences get out of register due to insertions or deletions, use the Wuhan isolate for the amino acid addresses.\n"
      ]
    },
    {
      "cell_type": "markdown",
      "metadata": {
        "id": "nGQKajQzewQg"
      },
      "source": [
        "# Assignment\n",
        "\n",
        "The assignment is to classify the unknown genome.  We need a multiple sequence alignment, which will include the spike protein from all three viral genomes.  Multiple sequence alignment is a more difficult problem for a computer than pairwise alignment, and can't be done through Biopython.  Instead we will prepare a file of the three spike protein sequences, then submit the file to a computer at the European Bioinformatics Institute (EBI) for alignment.  The EBI will use a program called *CLUSTAL* to align the three sequences.\n",
        "\n",
        "The following code block prints out the file with three spike sequences.  They are in a format called *fasta*, which is widely used for this sort of job."
      ]
    },
    {
      "cell_type": "code",
      "source": [
        "spikeW_r = Seq(spikeW)\n",
        "spikeW_record = SeqRecord(spikeW_r)\n",
        "spikeW_record.id = \"Wuhan\"\n",
        "spikeD_r = Seq(spikeD)\n",
        "spikeD_record = SeqRecord(spikeD_r)\n",
        "spikeD_record.id = \"Delta\"\n",
        "spikeU_r = Seq(spikeU)\n",
        "spikeU_record = SeqRecord(spikeU_r)\n",
        "spikeU_record.id = \"Unknown\"\n",
        "altogether = spikeW_record.format(\"fasta\") + spikeD_record.format(\"fasta\") + spikeU_record.format(\"fasta\")\n",
        "print(altogether)"
      ],
      "metadata": {
        "id": "rCDgLHDDUDuP"
      },
      "execution_count": null,
      "outputs": []
    },
    {
      "cell_type": "markdown",
      "source": [
        "Execute the next two code blocks to submit the job.  Depending on how busy the EBI computer is, it will take a few seconds to several hours."
      ],
      "metadata": {
        "id": "i01DpFS6f2Aq"
      }
    },
    {
      "cell_type": "code",
      "execution_count": null,
      "metadata": {
        "id": "ME_rwab5lsdt"
      },
      "outputs": [],
      "source": [
        "# https://rest.uniprot.org/beta/docs/\n",
        "WEBSITE_API = \"https://rest.uniprot.org/beta\"\n",
        "\n",
        "# Helper function to download data\n",
        "def get_url(url, **kwargs):\n",
        "  response = requests.get(url, **kwargs);\n",
        "\n",
        "  if not response.ok:\n",
        "    print(response.text)\n",
        "    response.raise_for_status()\n",
        "    sys.exit()\n",
        "\n",
        "  return response"
      ]
    },
    {
      "cell_type": "code",
      "source": [
        "r = requests.post(\"https://www.ebi.ac.uk/Tools/services/rest/clustalo/run\", data={\n",
        "    \"email\": \"lestimpe@gmail.com\",\n",
        "    \"iterations\": 0,\n",
        "    \"outfmt\": \"clustal_num\",\n",
        "    \"order\": \"aligned\",\n",
        "    \"sequence\": altogether\n",
        "})\n",
        "\n",
        "job_id = r.text\n",
        "print(job_id)\n",
        "\n",
        "# get job status\n",
        "r = get_url(f\"https://www.ebi.ac.uk/Tools/services/rest/clustalo/status/{job_id}\")\n",
        "print(r.text)"
      ],
      "metadata": {
        "id": "P-SOB1UbnR51"
      },
      "execution_count": null,
      "outputs": []
    },
    {
      "cell_type": "markdown",
      "source": [
        "If the status is \"RUNNING\", click the following code block to check.  When the job is finished run the last code block to display the aligned sequences."
      ],
      "metadata": {
        "id": "KnvBqHAGgSa2"
      }
    },
    {
      "cell_type": "markdown",
      "source": [
        "Open the *Variants_Spike_mutations* file (in your Downloads).  Go through the alignment comparing the Wuhan isolate with the unknown.  Write down the mutations using the notation described above, then compare your results with the lists in *Variants_Spike_mutations* to figure out which variant the unknown is.  If you are interested in learning more about the variants look [here](https://www.nytimes.com/interactive/2021/health/coronavirus-variant-tracker.html?searchResultPosition=83).  The article also has some useful diagrams of the genome and pictures of the spike protein.\n",
        "\n",
        "A sequence may have small differences compared to the defining mutations, yet still be an example of the variant.  Variants are classified using a phylogenetic tree.  All the variants identified as Delta, for example, have a pattern of mutations more similar to other Delta variants than to any other, but all sequences defined as Delta are not identical."
      ],
      "metadata": {
        "id": "9AM7xhy9hwSI"
      }
    },
    {
      "cell_type": "code",
      "source": [
        "# get job status\n",
        "r = get_url(f\"https://www.ebi.ac.uk/Tools/services/rest/clustalo/status/{job_id}\")\n",
        "\n",
        "print(r.text)"
      ],
      "metadata": {
        "id": "g2bT8CHJndUE"
      },
      "execution_count": null,
      "outputs": []
    },
    {
      "cell_type": "code",
      "source": [
        "r = get_url(f\"https://www.ebi.ac.uk/Tools/services/rest/clustalo/result/{job_id}/aln-clustal_num\")\n",
        "print(r.text)"
      ],
      "metadata": {
        "id": "04NVwLmBnvKS"
      },
      "execution_count": null,
      "outputs": []
    }
  ]
}