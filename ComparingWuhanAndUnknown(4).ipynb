{
  "nbformat": 4,
  "nbformat_minor": 0,
  "metadata": {
    "colab": {
      "name": "ComparingWuhanAndUnknown(4).ipynb",
      "provenance": [],
      "collapsed_sections": [],
      "authorship_tag": "ABX9TyO2+ouyr0V/tKNHC+T1xEIh",
      "include_colab_link": true
    },
    "kernelspec": {
      "name": "python3",
      "display_name": "Python 3"
    },
    "language_info": {
      "name": "python"
    }
  },
  "cells": [
    {
      "cell_type": "markdown",
      "metadata": {
        "id": "view-in-github",
        "colab_type": "text"
      },
      "source": [
        "<a href=\"https://colab.research.google.com/github/lestimpe/SARS-CoV-2-genome/blob/main/ComparingWuhanAndUnknown(4).ipynb\" target=\"_parent\"><img src=\"https://colab.research.google.com/assets/colab-badge.svg\" alt=\"Open In Colab\"/></a>"
      ]
    },
    {
      "cell_type": "markdown",
      "metadata": {
        "id": "ZEfXFD17m4D0"
      },
      "source": [
        "# **Comparing the Wuhan isolate with two variants**\n",
        "\n",
        "We will download the genomic sequences from the Wuhan isolate, a delta variant and an unknown that you will classify at the end of this notebook.  First we install Biopython:"
      ]
    },
    {
      "cell_type": "code",
      "metadata": {
        "colab": {
          "base_uri": "https://localhost:8080/"
        },
        "id": "6nBcFEsnlx0t",
        "outputId": "70cca439-4203-429d-9bdd-9a97ba51c696"
      },
      "source": [
        "!pip install biopython\n",
        "import Bio\n",
        "from Bio import Entrez\n",
        "from Bio import SeqIO\n",
        "from Bio import GenBank\n",
        "from Bio import Align\n",
        "from Bio import AlignIO"
      ],
      "execution_count": 1,
      "outputs": [
        {
          "output_type": "stream",
          "name": "stdout",
          "text": [
            "Collecting biopython\n",
            "  Downloading biopython-1.79-cp37-cp37m-manylinux_2_5_x86_64.manylinux1_x86_64.whl (2.3 MB)\n",
            "\u001b[K     |████████████████████████████████| 2.3 MB 7.5 MB/s \n",
            "\u001b[?25hRequirement already satisfied: numpy in /usr/local/lib/python3.7/dist-packages (from biopython) (1.19.5)\n",
            "Installing collected packages: biopython\n",
            "Successfully installed biopython-1.79\n"
          ]
        }
      ]
    },
    {
      "cell_type": "markdown",
      "metadata": {
        "id": "lI263P6vnelp"
      },
      "source": [
        "The next code cell downloads the three genomic sequences:"
      ]
    },
    {
      "cell_type": "code",
      "metadata": {
        "colab": {
          "base_uri": "https://localhost:8080/"
        },
        "id": "6eEXZlkwmWJ4",
        "outputId": "3a1aa53d-a540-4c11-cc6c-1854611e011d"
      },
      "source": [
        "Entrez.email = 'A.N.Other@example.com'\n",
        "with Entrez.efetch(\n",
        "    db=\"nucleotide\", rettype=\"gb\", retmode=\"text\", id=\"NC_045512.2\"\n",
        ") as handle:\n",
        "    Wuhan_record = SeqIO.read(handle, \"genbank\")\n",
        "print(\"%s with %i features\" % (Wuhan_record.id, len(Wuhan_record.features)))\n",
        "\n",
        "Entrez.email = 'A.N.Other@example.com'\n",
        "with Entrez.efetch(\n",
        "    db=\"nucleotide\", rettype=\"gb\", retmode=\"text\", id=\"MZ077342.1\"\n",
        ") as handle:\n",
        "    Delta_record = SeqIO.read(handle, \"genbank\")\n",
        "print(\"%s with %i features\" % (Delta_record.id, len(Delta_record.features)))\n",
        "\n",
        "Entrez.email = 'A.N.Other@example.com'\n",
        "with Entrez.efetch(\n",
        "    db=\"nucleotide\", rettype=\"gb\", retmode=\"text\", id=\"MZ007342.1\"\n",
        ") as handle:\n",
        "    Unknown_record = SeqIO.read(handle, \"genbank\")\n",
        "print(\"%s with %i features\" % (Unknown_record.id, len(Unknown_record.features)))"
      ],
      "execution_count": 2,
      "outputs": [
        {
          "output_type": "stream",
          "name": "stdout",
          "text": [
            "NC_045512.2 with 57 features\n",
            "MZ077342.1 with 55 features\n",
            "MZ007342.1 with 55 features\n"
          ]
        }
      ]
    },
    {
      "cell_type": "markdown",
      "metadata": {
        "id": "EF_gr4xpCSys"
      },
      "source": [
        "In a sequence *alignment*, two or more sequences are arranged to line up the corresponding nucleotides or amino acids.  Remember that there are three reading frames per strand. We are going to use PairwiseAligner to make sure the spike genes are in the same reading frame."
      ]
    },
    {
      "cell_type": "code",
      "metadata": {
        "id": "DvhBAZi-aIKT"
      },
      "source": [
        "aligner = Align.PairwiseAligner()\n",
        "aligner.mode = 'local'\n",
        "aligner.mismatch_score = -10\n",
        "aligner.target_internal_open_gap_score = -20.000000\n",
        "aligner.target_internal_extend_gap_score = -5.00000\n",
        "aligner.target_left_open_gap_score = -10.000000\n",
        "aligner.target_left_extend_gap_score = -0.500000\n",
        "aligner.target_right_open_gap_score = -10.000000\n",
        "aligner.target_right_extend_gap_score = -0.500000\n",
        "aligner.query_internal_open_gap_score = -10.000000\n",
        "aligner.query_internal_extend_gap_score = -0.500000\n",
        "aligner.query_left_open_gap_score = -10.000000\n",
        "aligner.query_left_extend_gap_score = -0.500000\n",
        "aligner.query_right_open_gap_score = -10.000000\n",
        "aligner.query_right_extend_gap_score = -0.500000"
      ],
      "execution_count": 3,
      "outputs": []
    },
    {
      "cell_type": "markdown",
      "metadata": {
        "id": "bLRVJ1O8ERDc"
      },
      "source": [
        "Now we run the aligner.  The output is the amino acid sequence in the single letter code, Wuhan isolate on top.  "
      ]
    },
    {
      "cell_type": "code",
      "metadata": {
        "colab": {
          "base_uri": "https://localhost:8080/"
        },
        "id": "CJkPVUyWELKo",
        "outputId": "ae60de6d-7e39-4bc0-bf90-8dbce2f232ec"
      },
      "source": [
        "spikeW = Wuhan_record.seq[21562:25384]\n",
        "spikeD = Delta_record.seq[21525:25427]\n",
        "alignmentWvsD_aa = aligner.align(spikeW.translate(), spikeD.translate())\n",
        "\n",
        "print(alignmentWvsD_aa[0])"
      ],
      "execution_count": 4,
      "outputs": [
        {
          "output_type": "stream",
          "name": "stdout",
          "text": [
            "MFVFLVLLPLVSSQCVNLTTRTQLPPAYTNSFTRGVYYPDKVFRSSVLHSTQDLFLPFFSNVTWFHAIHVSGTNGTKRFDNPVLPFNDGVYFASTEKSNIIRGWIFGTTLDSKTQSLLIVNNATNVVIKVCEFQFCNDPFLGVYYHKNNKSWMESEFRVYSSANNCTFEYVSQPFLMDLEGKQGNFKNLREFVFKNIDGYFKIYSKHTPINLVRDLPQGFSALEPLVDLPIGINITRFQTLLALHRSYLTPGDSSSGWTAGAAAYYVGYLQPRTFLLKYNENGTITDAVDCALDPLSETKCTLKSFTVEKGIYQTSNFRVQPTESIVRFPNITNLCPFGEVFNATRFASVYAWNRKRISNCVADYSVLYNSASFSTFKCYGVSPTKLNDLCFTNVYADSFVIRGDEVRQIAPGQTGKIADYNYKLPDDFTGCVIAWNSNNLDSKVGGNYNYLYRLFRKSNLKPFERDISTEIYQAGSTPCNGVEGFNCYFPLQSYGFQPTNGVGYQPYRVVVLSFELLHAPATVCGPKKSTNLVKNKCVNFNFNGLTGTGVLTESNKKFLPFQQFGRDIADTTDAVRDPQTLEILDITPCSFGGVSVITPGTNTSNQVAVLYQDVNCTEVPVAIHADQLTPTWRVYSTGSNVFQTRAGCLIGAEHVNNSYECDIPIGAGICASYQTQTNSPRRARSVASQSIIAYTMSLGAENSVAYSNNSIAIPTNFTISVTTEILPVSMTKTSVDCTMYICGDSTECSNLLLQYGSFCTQLNRALTGIAVEQDKNTQEVFAQVKQIYKTPPIKDFGGFNFSQILPDPSKPSKRSFIEDLLFNKVTLADAGFIKQYGDCLGDIAARDLICAQKFNGLTVLPPLLTDEMIAQYTSALLAGTITSGWTFGAGAALQIPFAMQMAYRFNGIGVTQNVLYENQKLIANQFNSAIGKIQDSLSSTASALGKLQDVVNQNAQALNTLVKQLSSNFGAISSVLNDILSRLDKVEAEVQIDRLITGRLQSLQTYVTQQLIRAAEIRASANLAATKMSECVLGQSKRVDFCGKGYHLMSFPQSAPHGVVFLHVTYVPAQEKNFTTAPAICHDGKAHFPREGVFVSNGTHWFVTQRNFYEPQIITTDNTFVSGNCDVVIGIVNNTVYDPLQPELDSFKEELDKYFKNHTSPDVDLGDISGINASVVNIQKEIDRLNEVAKNLNESLIDLQELGKYEQYIKWPWYIWLGFIAGLIAIVMVTIMLCCMTSCCSCLKGCCSCGSCCKFDEDDSEPVLKGVKLHYT*\n",
            "||||||||||||||||||.||||||||||||||||||||||||||||||||||||||||||||||||||||||||||||||||||||||||||||||||||||||||||||||||||...|||||||||||||||||||||.|||||||||||||--.|||||||||||||||||||||||||||||||||||||||||||||||||||||||||||||||.|||||||||||||||||||||||||||||||||||||||||||||||||||||||||||||||||||||||||||||||||||||||||||||||||||||||||||||||||||||||||||||||||||||||||||||||||||||||||||||||||||||||||||||||||||||||||||||||||||||||||||||||||||||||||||||||||||||.|||||||||||||||||||||||||.|||||||||||||||||||||||||||||||||||||||||||||||||||||||||||||||||||||||||||||||||||||||||||||||||||||||||||||||||||||||||||||||||||||||.||||||||||||||||||||||||||||||||||||||||||||||||||||||||||||||||||.||||||||||||||||||||||||||||||||||||||||||||||||||||||||||||||||||||||||||||||||||||||||||||||||||||||||||||||||||||||||||||||||||||||||||||||||||||||||||||||||||||||||||||||||||||||||||||||||||||||||||||||||||||||||||||||||||||||||||||||||||||||||||||||||||||||||||||.||||||||||||||||||||||||||||||||||||||||||||||||||||||||||||||||||||||||||||||||||||||||||||||||||||||||||||||||||||||||||||||||||||||||||||||||||||||||||||||||||||||||||||||||||||||||||||||||||||||||||||||||||||||||||||||||||||||||||||||||||||||||||||||||||||||||||||||||||||||||||||||||||||||||||||||||||||||||||||||||||||\n",
            "MFVFLVLLPLVSSQCVNLRTRTQLPPAYTNSFTRGVYYPDKVFRSSVLHSTQDLFLPFFSNVTWFHAIHVSGTNGTKRFDNPVLPFNDGVYFASTEKSNIIRGWIFGTTLDSKTQSLXXXNNATNVVIKVCEFQFCNDPFLDVYYHKNNKSWMES--GVYSSANNCTFEYVSQPFLMDLEGKQGNFKNLREFVFKNIDGYFKIYSKHTPINLVRDLPQGFSVLEPLVDLPIGINITRFQTLLALHRSYLTPGDSSSGWTAGAAAYYVGYLQPRTFLLKYNENGTITDAVDCALDPLSETKCTLKSFTVEKGIYQTSNFRVQPTESIVRFPNITNLCPFGEVFNATRFASVYAWNRKRISNCVADYSVLYNSASFSTFKCYGVSPTKLNDLCFTNVYADSFVIRGDEVRQIAPGQTGKIADYNYKLPDDFTGCVIAWNSNNLDSKVGGNYNYRYRLFRKSNLKPFERDISTEIYQAGSKPCNGVEGFNCYFPLQSYGFQPTNGVGYQPYRVVVLSFELLHAPATVCGPKKSTNLVKNKCVNFNFNGLTGTGVLTESNKKFLPFQQFGRDIADTTDAVRDPQTLEILDITPCSFGGVSVITPGTNTSNQVAVLYQGVNCTEVPVAIHADQLTPTWRVYSTGSNVFQTRAGCLIGAEHVNNSYECDIPIGAGICASYQTQTNSRRRARSVASQSIIAYTMSLGAENSVAYSNNSIAIPTNFTISVTTEILPVSMTKTSVDCTMYICGDSTECSNLLLQYGSFCTQLNRALTGIAVEQDKNTQEVFAQVKQIYKTPPIKDFGGFNFSQILPDPSKPSKRSFIEDLLFNKVTLADAGFIKQYGDCLGDIAARDLICAQKFNGLTVLPPLLTDEMIAQYTSALLAGTITSGWTFGAGAALQIPFAMQMAYRFNGIGVTQNVLYENQKLIANQFNSAIGKIQDSLSSTASALGKLQNVVNQNAQALNTLVKQLSSNFGAISSVLNDILSRLDKVEAEVQIDRLITGRLQSLQTYVTQQLIRAAEIRASANLAATKMSECVLGQSKRVDFCGKGYHLMSFPQSAPHGVVFLHVTYVPAQEKNFTTAPAICHDGKAHFPREGVFVSNGTHWFVTQRNFYEPQIITTDNTFVSGNCDVVIGIVNNTVYDPLQPELDSFKEELDKYFKNHTSPDVDLGDISGINASVVNIQKEIDRLNEVAKNLNESLIDLQELGKYEQYIKWPWYIWLGFIAGLIAIVMVTIMLCCMTSCCSCLKGCCSCGSCCKFDEDDSEPVLKGVKLHYT*TNLWICL*ESSQLEL*L*SKVKSRMLLL\n",
            "\n"
          ]
        },
        {
          "output_type": "stream",
          "name": "stderr",
          "text": [
            "/usr/local/lib/python3.7/dist-packages/Bio/Seq.py:2983: BiopythonWarning: Partial codon, len(sequence) not a multiple of three. Explicitly trim the sequence or add trailing N before translation. This may become an error in future.\n",
            "  BiopythonWarning,\n"
          ]
        }
      ]
    },
    {
      "cell_type": "markdown",
      "metadata": {
        "id": "egJHbbAVISqR"
      },
      "source": [
        "Notice that the first amino acid is M, or methionine, as expected.  If you scroll all the way to the end of the sequence you will see an asterisk corresponding to the stop codon, the end of translation and the end of the open reading frame.\n",
        "\n",
        "The missense mutations and gaps are represented by dots and dashes, respectively.  Scrolling back to the beginning, you will see where the program has aligned LIV in the Wuhan isolate with XXX in the Delta.  There is no amino acid X in the single letter code.  This is a region of nine nucleotides in Delta in which the sequencing failed to identify the nucleotides.  Not knowing what they are, the aligner program uses X.\n",
        "\n",
        "Near the beginning of the sequence you will see T (threonine) in the Wuhan isolate paired with R (arginine) in Delta.  The dot indicates a mismatch.  This mutation is represented as T19R, where 19 is the position of the amino acid. It is a missense mutation. Each variant is defined by its mutations.  There is a list for a few common variants in a document called *Variants_Spike_mutations* on iLearn. \n"
      ]
    },
    {
      "cell_type": "markdown",
      "metadata": {
        "id": "nGQKajQzewQg"
      },
      "source": [
        "We are interested in a multiple sequence alignment, which includes all three viral genomes.  Multiple sequence alignment is a more difficult problem than pairwise alignment, and can't be done through Biopython without installing another program on your computer.  So, the alignment is provided as a file called *alignment.clustal_num*, which you will find on is available from github and should already be in your Downloads directory.  CLUSTAL is the program used to do the aligning.\n",
        "\n",
        "Biopython will not display it in the most useful format, hence you should open the file on your computer.  It is a text file.  When I open with Word, the file does not look like a proper amino acid alignement, but this is due to the default page margins being too large.  Click on the Layout tab and set the margins to 1/2 inch all around, and the amino acids should be nicely lined up. \n",
        "\n",
        "# Asssignment\n",
        "\n",
        "The assignment is to classify the unknown genome in the multiple alignment.  You need to have the multiple alignment open and displayed properly, plus the Variants_Spike_mutations file.  Go through the alignment comparing the Wuhan isolate with the unknown.  Write down the mutations using the notation described above, then compare your results with the lists in *Variant_Spike_mutations* to figure which variant the unknown is."
      ]
    }
  ]
}