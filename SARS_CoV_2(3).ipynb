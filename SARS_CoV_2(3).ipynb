{
  "nbformat": 4,
  "nbformat_minor": 0,
  "metadata": {
    "colab": {
      "name": "SARS-CoV-2(3).ipynb",
      "provenance": [],
      "collapsed_sections": [],
      "include_colab_link": true
    },
    "kernelspec": {
      "name": "python3",
      "display_name": "Python 3"
    },
    "language_info": {
      "name": "python"
    }
  },
  "cells": [
    {
      "cell_type": "markdown",
      "metadata": {
        "id": "view-in-github",
        "colab_type": "text"
      },
      "source": [
        "<a href=\"https://colab.research.google.com/github/lestimpe/SARS-CoV-2-genome/blob/main/SARS_CoV_2(3).ipynb\" target=\"_parent\"><img src=\"https://colab.research.google.com/assets/colab-badge.svg\" alt=\"Open In Colab\"/></a>"
      ]
    },
    {
      "cell_type": "markdown",
      "metadata": {
        "id": "hBc-BDc3VHPF"
      },
      "source": [
        "# Messenger RNA Vaccines (3)\n",
        "\n",
        "The sequence of the Wuhan isolate of SARS CoV-2 was published in January of 2020.  Immediately the spike protein became important for its possible use in vaccines, because it projects from the surface of the virus, and hence is likely to be antigenic. Recall that an *antigen* is antibody-generating; it provokes the immune system to make antibodies.\n",
        "\n",
        "The idea of an mRNA vaccine is to inject mRNA into a person's muscle.  The mRNA should be taken up by muscle cells, and direct the synthesis of spike proteins.  These would be expressed on the surface of muscle cells, and, since they are foreign to the body, elicit an immune response.  If the person were exposed to SARS CoV-2 later, the body would already be prepared to fight off the infection.\n",
        "\n",
        "There are potential problems, however.  Messenger RNA is not very stable in the body extracellularly (outside of cells), is not taken up efficiently into cells across the cell membrane, and could itself provoke an immune response.  An immune response against the mRNA would reduce the amount of active mRNA, and also elicit symptoms in the patient.  Hence there was scepticism about whether mRNA could be used therapeutically.  \n",
        "\n",
        "In early experiments messenger RNA injected into mice caused massive inflammatory reactions.  One research group [discovered](https://pubmed.ncbi.nlm.nih.gov/16111635/) that replacing uridine (U) with pseudouridine reduced these reactions.  Recall that transfer RNA contains some nonstandard nucleotides; pseudouridine is one. (See this article to read more about one researcher's struggles and eventual success: [mRNA](https://www.nytimes.com/2021/04/08/health/coronavirus-mrna-kariko.html?searchResultPosition=16)).  \n",
        "\n",
        "Academic labs had developed a *lipid nanoparticle* technology that packages the mRNA in a vesicle made from a phospholipid bilayer, similar to that of the cell membrane.  This packaging increased the stability of the mRNA in the body, and aided in its transport across the cell membrane.\n",
        "\n",
        "Finally, some scientists proposed modifying two amino acids in the spike protein in a way expected to make the spike more immunogenic.\n",
        "\n",
        "So, once the best sequence was chosen, the mRNA itself could be easily synthesized (using pseudouridine), then packaged for delivery in nanoparticles.\n",
        "\n",
        "We are going to compare the sequences of the BioNTech/Pfizer and Moderna mRNA vaccines with that of the Wuhan isolate.  Run the following code cell to prepare the notebook:"
      ]
    },
    {
      "cell_type": "code",
      "metadata": {
        "id": "D-Pd_beFcD76"
      },
      "source": [
        "!pip install biopython\n",
        "import Bio\n",
        "from Bio import Entrez\n",
        "from Bio import SeqIO\n",
        "from Bio import GenBank"
      ],
      "execution_count": null,
      "outputs": []
    },
    {
      "cell_type": "markdown",
      "metadata": {
        "id": "4qThlI9nkMow"
      },
      "source": [
        "Some scientists at Stanford determined the mRNA sequences from the Moderna and Pfizer vaccines ([see their paper on Github])(https://github.com/NAalytics/Assemblies-of-putative-SARS-CoV2-spike-encoding-mRNA-sequences-for-vaccines-BNT-162b2-and-mRNA-1273/blob/main/Assemblies%20of%20putative%20SARS-CoV2-spike-encoding%20mRNA%20sequences%20for%20vaccines%20BNT-162b2%20and%20mRNA-1273.docx.pdf).  The next code cell gets those sequences.  You should have already copied the two files from Github to your Downloads file when you did the Introduction notebook.  After you start the code cell, click on Choose Files at the bottom, and get the Moderna and BioNTech sequences from your Downloads file."
      ]
    },
    {
      "cell_type": "code",
      "metadata": {
        "id": "w8tProQ8cLpA"
      },
      "source": [
        "from google.colab import files\n",
        "\n",
        "uploaded = files.upload()\n",
        "\n",
        "for fn in uploaded.keys():\n",
        "  print('User uploaded file \"{name}\" with length {length} bytes'.format(\n",
        "      name=fn, length=len(uploaded[fn])))"
      ],
      "execution_count": null,
      "outputs": []
    },
    {
      "cell_type": "markdown",
      "metadata": {
        "id": "xJnu371Idhux"
      },
      "source": [
        "The next two code cells display the BioNTech and Moderna nucleotide sequences:"
      ]
    },
    {
      "cell_type": "code",
      "metadata": {
        "id": "8izZMWkuhauB",
        "colab": {
          "base_uri": "https://localhost:8080/"
        },
        "outputId": "dbd73098-386e-4d11-9066-779e02575cb0"
      },
      "source": [
        "for seq_record in SeqIO.parse(\"mRNA_BioNTech.txt\", \"fasta\"):\n",
        "    print(seq_record.id)\n",
        "    print(seq_record.seq)\n",
        "    BioNTech_record = seq_record\n",
        "    print(len(seq_record))"
      ],
      "execution_count": 4,
      "outputs": [
        {
          "output_type": "stream",
          "name": "stdout",
          "text": [
            "Figure1_032321_Spike-encoding_contig_assembled_from_BioNTech/Pfizer_BNT-162b2_vaccine\n",
            "GAGAATAAACTAGTATTCTTCTGGTCCCCACAGACTCAGAGAGAACCCGCCACCATGTTCGTGTTCCTGGTGCTGCTGCCTCTGGTGTCCAGCCAGTGTGTGAACCTGACCACCAGAACACAGCTGCCTCCAGCCTACACCAACAGCTTTACCAGAGGCGTGTACTACCCCGACAAGGTGTTCAGATCCAGCGTGCTGCACTCTACCCAGGACCTGTTCCTGCCTTTCTTCAGCAACGTGACCTGGTTCCACGCCATCCACGTGTCCGGCACCAATGGCACCAAGAGATTCGACAACCCCGTGCTGCCCTTCAACGACGGGGTGTACTTTGCCAGCACCGAGAAGTCCAACATCATCAGAGGCTGGATCTTCGGCACCACACTGGACAGCAAGACCCAGAGCCTGCTGATCGTGAACAACGCCACCAACGTGGTCATCAAAGTGTGCGAGTTCCAGTTCTGCAACGACCCCTTCCTGGGCGTCTACTACCACAAGAACAACAAGAGCTGGATGGAAAGCGAGTTCCGGGTGTACAGCAGCGCCAACAACTGCACCTTCGAGTACGTGTCCCAGCCTTTCCTGATGGACCTGGAAGGCAAGCAGGGCAACTTCAAGAACCTGCGCGAGTTCGTGTTTAAGAACATCGACGGCTACTTCAAGATCTACAGCAAGCACACCCCTATCAACCTCGTGCGGGATCTGCCTCAGGGCTTCTCTGCTCTGGAACCCCTGGTGGATCTGCCCATCGGCATCAACATCACCCGGTTTCAGACACTGCTGGCCCTGCACAGAAGCTACCTGACACCTGGCGATAGCAGCAGCGGATGGACAGCTGGTGCCGCCGCTTACTATGTGGGCTACCTGCAGCCTAGAACCTTCCTGCTGAAGTACAACGAGAACGGCACCATCACCGACGCCGTGGATTGTGCTCTGGATCCTCTGAGCGAGACAAAGTGCACCCTGAAGTCCTTCACCGTGGAAAAGGGCATCTACCAGACCAGCAACTTCCGGGTGCAGCCCACCGAATCCATCGTGCGGTTCCCCAATATCACCAATCTGTGCCCCTTCGGCGAGGTGTTCAATGCCACCAGATTCGCCTCTGTGTACGCCTGGAACCGGAAGCGGATCAGCAATTGCGTGGCCGACTACTCCGTGCTGTACAACTCCGCCAGCTTCAGCACCTTCAAGTGCTACGGCGTGTCCCCTACCAAGCTGAACGACCTGTGCTTCACAAACGTGTACGCCGACAGCTTCGTGATCCGGGGAGATGAAGTGCGGCAGATTGCCCCTGGACAGACAGGCAAGATCGCCGACTACAACTACAAGCTGCCCGACGACTTCACCGGCTGTGTGATTGCCTGGAACAGCAACAACCTGGACTCCAAAGTCGGCGGCAACTACAATTACCTGTACCGGCTGTTCCGGAAGTCCAATCTGAAGCCCTTCGAGCGGGACATCTCCACCGAGATCTATCAGGCCGGCAGCACCCCTTGTAACGGCGTGGAAGGCTTCAACTGCTACTTCCCACTGCAGTCCTACGGCTTTCAGCCCACAAATGGCGTGGGCTATCAGCCCTACAGAGTGGTGGTGCTGAGCTTCGAACTGCTGCATGCCCCTGCCACAGTGTGCGGCCCTAAGAAAAGCACCAATCTCGTGAAGAACAAATGCGTGAACTTCAACTTCAACGGCCTGACCGGCACCGGCGTGCTGACAGAGAGCAACAAGAAGTTCCTGCCATTCCAGCAGTTTGGCCGGGATATCGCCGATACCACAGACGCCGTTAGAGATCCCCAGACACTGGAAATCCTGGACATCACCCCTTGCAGCTTCGGCGGAGTGTCTGTGATCACCCCTGGCACCAACACCAGCAATCAGGTGGCAGTGCTGTACCAGGACGTGAACTGTACCGAAGTGCCCGTGGCCATTCACGCCGATCAGCTGACACCTACATGGCGGGTGTACTCCACCGGCAGCAATGTGTTTCAGACCAGAGCCGGCTGTCTGATCGGAGCCGAGCACGTGAACAATAGCTACGAGTGCGACATCCCCATCGGCGCTGGAATCTGCGCCAGCTACCAGACACAGACAAACAGCCCTCGGAGAGCCAGAAGCGTGGCCAGCCAGAGCATCATTGCCTACACAATGTCTCTGGGCGCCGAGAACAGCGTGGCCTACTCCAACAACTCTATCGCTATCCCCACCAACTTCACCATCAGCGTGACCACAGAGATCCTGCCTGTGTCCATGACCAAGACCAGCGTGGACTGCACCATGTACATCTGCGGCGATTCCACCGAGTGCTCCAACCTGCTGCTGCAGTACGGCAGCTTCTGCACCCAGCTGAATAGAGCCCTGACAGGGATCGCCGTGGAACAGGACAAGAACACCCAAGAGGTGTTCGCCCAAGTGAAGCAGATCTACAAGACCCCTCCTATCAAGGACTTCGGCGGCTTCAATTTCAGCCAGATTCTGCCCGATCCTAGCAAGCCCAGCAAGCGGAGCTTCATCGAGGACCTGCTGTTCAACAAAGTGACACTGGCCGACGCCGGCTTCATCAAGCAGTATGGCGATTGTCTGGGCGACATTGCCGCCAGGGATCTGATTTGCGCCCAGAAGTTTAACGGACTGACAGTGCTGCCTCCTCTGCTGACCGATGAGATGATCGCCCAGTACACATCTGCCCTGCTGGCCGGCACAATCACAAGCGGCTGGACATTTGGAGCAGGCGCCGCTCTGCAGATCCCCTTTGCTATGCAGATGGCCTACCGGTTCAACGGCATCGGAGTGACCCAGAATGTGCTGTACGAGAACCAGAAGCTGATCGCCAACCAGTTCAACAGCGCCATCGGCAAGATCCAGGACAGCCTGAGCAGCACAGCAAGCGCCCTGGGAAAGCTGCAGGACGTGGTCAACCAGAATGCCCAGGCACTGAACACCCTGGTCAAGCAGCTGTCCTCCAACTTCGGCGCCATCAGCTCTGTGCTGAACGATATCCTGAGCAGACTGGACCCTCCTGAGGCCGAGGTGCAGATCGACAGACTGATCACAGGCAGACTGCAGAGCCTCCAGACATACGTGACCCAGCAGCTGATCAGAGCCGCCGAGATTAGAGCCTCTGCCAATCTGGCCGCCACCAAGATGTCTGAGTGTGTGCTGGGCCAGAGCAAGAGAGTGGACTTTTGCGGCAAGGGCTACCACCTGATGAGCTTCCCTCAGTCTGCCCCTCACGGCGTGGTGTTTCTGCACGTGACATATGTGCCCGCTCAAGAGAAGAATTTCACCACCGCTCCAGCCATCTGCCACGACGGCAAAGCCCACTTTCCTAGAGAAGGCGTGTTCGTGTCCAACGGCACCCATTGGTTCGTGACACAGCGGAACTTCTACGAGCCCCAGATCATCACCACCGACAACACCTTCGTGTCTGGCAACTGCGACGTCGTGATCGGCATTGTGAACAATACCGTGTACGACCCTCTGCAGCCCGAGCTGGACAGCTTCAAAGAGGAACTGGACAAGTACTTTAAGAACCACACAAGCCCCGACGTGGACCTGGGCGATATCAGCGGAATCAATGCCAGCGTCGTGAACATCCAGAAAGAGATCGACCGGCTGAACGAGGTGGCCAAGAATCTGAACGAGAGCCTGATCGACCTGCAAGAACTGGGGAAGTACGAGCAGTACATCAAGTGGCCCTGGTACATCTGGCTGGGCTTTATCGCCGGACTGATTGCCATCGTGATGGTCACAATCATGCTGTGTTGCATGACCAGCTGCTGTAGCTGCCTGAAGGGCTGTTGTAGCTGTGGCAGCTGCTGCAAGTTCGACGAGGACGATTCTGAGCCCGTGCTGAAGGGCGTGAAACTGCACTACACATGATGACTCGAGCTGGTACTGCATGCACGCAATGCTAGCTGCCCCTTTCCCGTCCTGGGTACCCCGAGTCTCCCCCGACCTCGGGTCCCAGGTATGCTCCCACCTCCACCTGCCCCACTCACCACCTCTGCTAGTTCCAGACACCTCCCAAGCACGCAGCAATGCAGCTCAAAACGCTTAGCCTAGCCACACCCCCACGGGAAACAGCAGTGATTAACCTTTAGCAATAAACGAAAGTTTAACTAAGCTATACTAACCCCAGGGTTGGTCAATTTCGTGCCAGCCACACCCTGGAGCTAGCA\n",
            "4175\n"
          ]
        }
      ]
    },
    {
      "cell_type": "code",
      "metadata": {
        "id": "i471z-WFRajc"
      },
      "source": [
        "for seq_record in SeqIO.parse(\"mRNA_Moderna.txt\", \"fasta\"):\n",
        "    print(seq_record.id)\n",
        "    print(seq_record.seq)\n",
        "    Moderna_record = seq_record\n",
        "    print(len(seq_record))"
      ],
      "execution_count": null,
      "outputs": []
    },
    {
      "cell_type": "markdown",
      "metadata": {
        "id": "Ensadf5JeEUG"
      },
      "source": [
        "In a sequence *alignment*, two or more sequences are arranged to line up the corresponding nucleotides or amino acids.  We are going to do pairwise sequence alignments.  \n",
        "\n",
        "There are very many ways to align sequences of the size we are working with.  For each alignment the computer calculates a score, adding points for correct matches of nucleotides, and subtracting points for mismatches or adding gaps.  Then the alignment (or perhaps more than one) with the highest score is returned by the program.  The following code cell gets the code module we need, and assigns values to the different parameters."
      ]
    },
    {
      "cell_type": "code",
      "metadata": {
        "id": "8ERHZuSeiXz3"
      },
      "source": [
        "from Bio import Align\n",
        "aligner = Align.PairwiseAligner()\n",
        "aligner.mode = 'local'\n",
        "aligner.mismatch_score = -2\n",
        "aligner.target_internal_open_gap_score = -10.000000\n",
        "aligner.target_internal_extend_gap_score = -0.500000\n",
        "aligner.target_left_open_gap_score = -10.000000\n",
        "aligner.target_left_extend_gap_score = -0.500000\n",
        "aligner.target_right_open_gap_score = -10.000000\n",
        "aligner.target_right_extend_gap_score = -0.500000\n",
        "aligner.query_internal_open_gap_score = -10.000000\n",
        "aligner.query_internal_extend_gap_score = -0.500000\n",
        "aligner.query_left_open_gap_score = -10.000000\n",
        "aligner.query_left_extend_gap_score = -0.500000\n",
        "aligner.query_right_open_gap_score = -10.000000\n",
        "aligner.query_right_extend_gap_score = -0.500000\n",
        "alignments = aligner.align(Moderna_record.seq, BioNTech_record.seq)"
      ],
      "execution_count": 6,
      "outputs": []
    },
    {
      "cell_type": "markdown",
      "metadata": {
        "id": "oaFQS1L-fi9t"
      },
      "source": [
        "Now let's compare the nucleotide sequences of the two mRNA vaccines.  Run the code cell.  You will see the two sequences displayed horizontally, Moderna on top.  Vertical lines connect nucleotides that are the same.  Within the aligned sequence dots appear where the two nucleotides differ.  Outside the aligned region there are 5' and 3' sequences that do not match at all.  Use the scroll bar to scan horizontally to the end of the sequence to the right.  Are the two nucleotide sequences identical? Similar?"
      ]
    },
    {
      "cell_type": "code",
      "metadata": {
        "id": "URUIeHAcSfRy"
      },
      "source": [
        "alignmentBvsM = aligner.align(Moderna_record.seq, BioNTech_record.seq)\n",
        "print(alignmentBvsM[0])"
      ],
      "execution_count": null,
      "outputs": []
    },
    {
      "cell_type": "markdown",
      "metadata": {
        "id": "EyfwxyDChr7f"
      },
      "source": [
        "We are more interested in amino acid sequence than in nucleotide sequence, since translation will occur in lung cells or muscle cells.  The next two code blocks translate the two mRNA sequences, giving the amino acid sequences using their single letter abbreviations."
      ]
    },
    {
      "cell_type": "code",
      "metadata": {
        "id": "ebbA4rpdo6Ub"
      },
      "source": [
        "BioNTech_aa = BioNTech_record.seq.translate()\n",
        "print(BioNTech_aa)"
      ],
      "execution_count": null,
      "outputs": []
    },
    {
      "cell_type": "code",
      "metadata": {
        "id": "uLc9oAE4YOnM"
      },
      "source": [
        "Moderna_aa = Moderna_record.seq.translate()\n",
        "print(Moderna_aa)"
      ],
      "execution_count": null,
      "outputs": []
    },
    {
      "cell_type": "markdown",
      "metadata": {
        "id": "D2pvjOzojQki"
      },
      "source": [
        "In the Moderna sequence you see some asterisks; these are stop codons.  Inside a cell the mRNA would attach first to a small ribosomal subunit, then to a large one, and the ribosome would move along the mRNA searching for the first AUG codon (encoding methionine, M).  That is where translation will begin.  So, up to the initiating methionine no protein would be made.  The corresponding mRNA sequence is 5' untranslated sequence, or *5' UTR*.\n",
        "\n",
        "Following the intiating M there are 15 amino acids that form a *signal peptide*.\n",
        "The signal peptide will direct the spike protein to the cell membrane of the muscle cell, where it will project out into the extracellular space and trigger an immune response. \n",
        "\n"
      ]
    },
    {
      "cell_type": "markdown",
      "metadata": {
        "id": "4u29FFXYc-rD"
      },
      "source": [
        "The next code cell aligns the amino acid sequences of the spike proteins made by the BioNTech and Moderna vaccines."
      ]
    },
    {
      "cell_type": "code",
      "metadata": {
        "id": "0ESefhdPyyCS"
      },
      "source": [
        "alignmentBvsM_aa = aligner.align(Moderna_aa,BioNTech_aa)\n",
        "print(alignmentBvsM_aa[0])"
      ],
      "execution_count": null,
      "outputs": []
    },
    {
      "cell_type": "markdown",
      "metadata": {
        "id": "eR9KOD7m5jjy"
      },
      "source": [
        "Inspect the alignment.  What do you conclude about the mechanism of action of the two vaccines?"
      ]
    }
  ]
}