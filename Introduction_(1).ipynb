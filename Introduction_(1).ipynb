{
  "nbformat": 4,
  "nbformat_minor": 0,
  "metadata": {
    "colab": {
      "name": "Introduction (1)",
      "provenance": [],
      "collapsed_sections": [],
      "include_colab_link": true
    },
    "kernelspec": {
      "name": "python3",
      "display_name": "Python 3"
    },
    "language_info": {
      "name": "python"
    }
  },
  "cells": [
    {
      "cell_type": "markdown",
      "metadata": {
        "id": "view-in-github",
        "colab_type": "text"
      },
      "source": [
        "<a href=\"https://colab.research.google.com/github/lestimpe/SARS-CoV-2-genome/blob/main/Introduction_(1).ipynb\" target=\"_parent\"><img src=\"https://colab.research.google.com/assets/colab-badge.svg\" alt=\"Open In Colab\"/></a>"
      ]
    },
    {
      "cell_type": "markdown",
      "metadata": {
        "id": "AB6mGvzDxTaY"
      },
      "source": [
        "\n",
        "# Introduction to the SARS-Cov-2 project and to Colab notebooks"
      ]
    },
    {
      "cell_type": "markdown",
      "metadata": {
        "id": "ukfm7NtQyM3p"
      },
      "source": [
        "\n",
        "The goals of this project are to learn some things about the SARS CoV-2 genome, the design of mRNA vaccines, to compare the nucleic acid sequences of the original SARS-CoV-2 virus (the Wuhan isolate) with the delta variant and to classify an unknown variant.  We will see the types of mutations, and some of the genes in which they occur.\n",
        "\n",
        "Further goals are to provide you with a very brief introduction to some of the sequence and other genetics resources available through the National Institutes of Health (NIH), and to give an example of the usefulness of computer programming in molecular biology.\n",
        "\n",
        "The format we use is the Google Colab notebook.  If you have used Jupyter notebooks before, you will see that a Colab notebook is very similar.  If you have not used a Jupyter notebook, don't worry, it is quite simple.\n",
        "\n",
        "A notebook has two types of cells, one with text, the other with a few computer programming instructions in the the Python language. You will run the code in these cells to accomplish some task.  You don't need to know Python to do this, and learning Python is not a goal of this project.  However, you do need to be able to run the code cells.\n",
        "\n",
        "A simple code cell follows.  Click on it, then click on the play button to the left.  The statement about Watson and Crick should be printed.\n"
      ]
    },
    {
      "cell_type": "code",
      "metadata": {
        "id": "qKAuJP_N5RDX"
      },
      "source": [
        "print(\"Watson and Crick discovered the structure of DNA.\")"
      ],
      "execution_count": null,
      "outputs": []
    },
    {
      "cell_type": "markdown",
      "metadata": {
        "id": "cKA-xAfh6RRe"
      },
      "source": [
        "You have executed the cell.  There should now be a green check next to the play button.\n",
        "\n",
        "Often the code will execute very quickly and the green check will appear immediately.  However, if the task is time-consuming, you will see a rotating symbol while the computer is thinking things over.  As you work through the notebook, the play buttons of previously executed code cells will contain integers, which count the number of executed code cells.\n",
        "\n",
        "There are other ways to run a cell, such as Shift/Enter or Control/Enter.\n",
        "\n",
        "The other notebooks will be longer than this introductory one.  If you work part-way through a notebook, end the session, then resume again later, you will not be able to pick up where you left off.  You must execute all the code cells from the beginning to where you stopped before continuing.\n",
        "\n",
        "If you leave a session unattended for some time, Google will shut it off.  You may then need to execute all the code cells from the beginning before you pick up again where you left off.\n",
        "\n",
        "To get some files necessary for this project, go to my [github account](https://www.github.com/lestimpe/SARS-CoV-2-genome), press the green CODE button, then press the Download zip button.  The files will appear in your Downloads folder, where you can leave them after extraction.\n",
        "\n",
        "\n",
        "Les Timpe\n",
        "\n",
        "Biology 355, SFSU\n",
        "\n",
        "September 30, 2021\n"
      ]
    }
  ]
}