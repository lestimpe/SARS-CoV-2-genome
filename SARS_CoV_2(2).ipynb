{
  "nbformat": 4,
  "nbformat_minor": 0,
  "metadata": {
    "colab": {
      "name": "SARS-CoV-2(2).ipynb",
      "provenance": [],
      "collapsed_sections": [],
      "include_colab_link": true
    },
    "kernelspec": {
      "name": "python3",
      "display_name": "Python 3"
    },
    "language_info": {
      "name": "python"
    }
  },
  "cells": [
    {
      "cell_type": "markdown",
      "metadata": {
        "id": "view-in-github",
        "colab_type": "text"
      },
      "source": [
        "<a href=\"https://colab.research.google.com/github/lestimpe/SARS-CoV-2-genome/blob/main/SARS_CoV_2(2).ipynb\" target=\"_parent\"><img src=\"https://colab.research.google.com/assets/colab-badge.svg\" alt=\"Open In Colab\"/></a>"
      ]
    },
    {
      "cell_type": "markdown",
      "metadata": {
        "id": "5BBf3f28xX0i"
      },
      "source": [
        "# Getting the SARS-CoV-2 sequence, Wuhan isolate; the spike protein (2)\n",
        "\n",
        "We will use the database available online from the National Center for Biotechnology Information (NCBI), which is part the the National Library of Medicine (NLM), which in turn is part of the National Institutes of Health (NIH).  This database includes the sequences of genes from many different organisms (not just humans), protein sequences, and some entire genomes. Much of this work was supported financially by the U.S. government, hence by taxpayers, and the results are freely available.\n",
        "\n",
        "Soon we will use Python to get the SARS-CoV-2 genome sequence, but first we need an identifier for it, its Ref_Seq number. Click on [ncbi home page](https://www.ncbi.nlm.nih.gov). Under Popular Resources (right-hand column) you will see some items that might interest you, such as PubMed (access to published papers) and Bookshelf (textbooks).  But go to the banner at the top of the page and click on *SARS-CoV-2 data (NCBI)*, then scroll down to the *SARS-CoV-2 Sequence Resources* section.  Find the *NCBI RefSeq SARS-CoV-2 genome sequence record* and click on *View Record*. \n",
        "\n",
        "This record contains much information about the Wuhan isolate, including genomic and translated sequences (you must scroll down to see them).  This is the first published SARS-CoV-2 sequence; it was made public in January of 2020 by the Wuhan Institute of Virology.  The published genomic sequence was used to design the mRNA vaccines, as we will see in the next notebook.\n",
        "\n",
        "At the top of the record you will find, right under the title, *NCBI Reference Sequence:*.  Copy down the identifier beginning with *NC* .\n"
      ]
    },
    {
      "cell_type": "markdown",
      "metadata": {
        "id": "lZVA81B2mx7H"
      },
      "source": [
        "Before getting the SARS-CoV-2 sequence, the notebook needs to be prepared.  We will use a package called *Biopython*, which adds functions important for us to the basic Python distribution, and one called *ReportLab* for drawing the genome.  Run the following code cell to download Biopython."
      ]
    },
    {
      "cell_type": "code",
      "metadata": {
        "id": "VKzgJzQxq-TF"
      },
      "source": [
        "!pip install biopython\n",
        "import Bio\n",
        "from Bio import Entrez\n",
        "from Bio import SeqIO\n",
        "from Bio import GenBank\n",
        "!pip install ReportLab\n",
        "from reportlab.lib import colors\n",
        "from reportlab.lib.units import cm\n",
        "from Bio.Graphics import GenomeDiagram\n",
        "from google.colab import files"
      ],
      "execution_count": null,
      "outputs": []
    },
    {
      "cell_type": "markdown",
      "metadata": {
        "id": "6PUvvuFNzM1L"
      },
      "source": [
        "The following code cell will download the SARS CoV-2 sequence, plus associated data that we want.  Look at the end of line three, where you will see *id = \"\"*.  Click on the code cell, enter the RefSeq identifier for the Wuhan isolate between the quotation marks, and execute the cell."
      ]
    },
    {
      "cell_type": "code",
      "metadata": {
        "id": "3X65TmgS8LVO"
      },
      "source": [
        "Entrez.email = 'A.N.Other@example.com'\n",
        "with Entrez.efetch(\n",
        "    db=\"nucleotide\", rettype=\"gb\", retmode=\"text\", id=\"\"\n",
        ") as handle:\n",
        "    seq_record = SeqIO.read(handle, \"genbank\")\n",
        "print(\"%s with %i features\" % (seq_record.id, len(seq_record.features)))"
      ],
      "execution_count": null,
      "outputs": []
    },
    {
      "cell_type": "markdown",
      "metadata": {
        "id": "B2TA2XtNyicu"
      },
      "source": [
        "Run the next cell to display part of the sequence, beginning at the 5' end:"
      ]
    },
    {
      "cell_type": "code",
      "metadata": {
        "id": "Sff2j12tGlsw"
      },
      "source": [
        "str(seq_record.seq)"
      ],
      "execution_count": null,
      "outputs": []
    },
    {
      "cell_type": "markdown",
      "metadata": {
        "id": "3zcMeX1szDQd"
      },
      "source": [
        "The genome of SARS CoV-2 is a + strand RNA genome, 29903 nucleotides in length.\n",
        "*+ strand* means it is a single RNA strand, which contains the coding sequences and is sometimes called the *sense* strand (the other would be the - strand, or *antisense* strand, or the *template* strand).  So, you could use the universal genetic code table on the sequence directly.  Even though it is an RNA genome, it is presented as DNA, with T's rather than U's.\n",
        "\n",
        "In addition to the sequence, the record you downloaded also contains many features.  Run the next cell:"
      ]
    },
    {
      "cell_type": "code",
      "metadata": {
        "id": "56Br7JVbiqWw"
      },
      "source": [
        "seq_record.features"
      ],
      "execution_count": null,
      "outputs": []
    },
    {
      "cell_type": "markdown",
      "metadata": {
        "id": "td-atHRw2G_-"
      },
      "source": [
        "Each row has information about one feature, including its starting and ending positions, counted in nucleotides from the 5' end of the genome, and also the feature type:\n",
        "\n",
        "\n",
        "**5' UTR** - 5' untranslated region\n",
        "\n",
        "**mat_peptide** - coding sequence for a mature peptide\n",
        "\n",
        "**gene** - in general could include introns, promotors, etc.\n",
        "\n",
        "**CDS** - coding sequence.  In this virus the coding sequences and genes are the  same.\n",
        "\n",
        "**stem_loop** - an RNA secondary structure\n",
        "\n",
        "**3' UTR** - 3' untranslated region\n",
        "\n",
        "\n",
        "\n",
        "In class we studied examples in which each gene has its own promoter.  Hence each gene gives rise to one transcript (or a family related by different splicing patterns) and one protein (or related splice variants).  In this virus the situation is different:  an open reading frame can be translated, then digested into mature proteins by protease enzymes.  The longest is *orf1ab*.  Open [this](https://www.ncbi.nlm.nih.gov/projects/sviewer/?id=NC_045512&tracks=[key:sequence_track,name:Sequence,display_name:Sequence,id:STD649220238,annots:Sequence,ShowLabel:false,ColorGaps:false,shown:true,order:1][key:gene_model_track,name:Genes,display_name:Genes,id:STD3194982005,annots:Unnamed,Options:ShowAllButGenes,CDSProductFeats:true,NtRuler:true,AaRuler:true,HighlightMode:2,ShowLabel:true,shown:true,order:9]&v=1:29903&c=null&select=null&slim=0) display from the NCBI website, and you will see orf1ab at the top. \n",
        "\n",
        "The viral genome encodes over two dozen proteins, including the proteases needed to process the proteins, and an RNA polymerase to copy the RNA genome. \n",
        "Some of the SARS CoV-2 proteins have unknown functions.  For a description of some of the genes and their functions, click [ here ](https://www.nytimes.com/interactive/2020/04/03/science/coronavirus-genome-bad-news-wrapped-in-protein.html?searchResultPosition=9). \n",
        "\n",
        "We will look at the gene for the spike protein, which is the 34th feature.  Run the following code cell:\n"
      ]
    },
    {
      "cell_type": "code",
      "metadata": {
        "id": "pD8aODCJYgaw"
      },
      "source": [
        "print(seq_record.features[34])"
      ],
      "execution_count": null,
      "outputs": []
    },
    {
      "cell_type": "markdown",
      "metadata": {
        "id": "BFECB3px3o_I"
      },
      "source": [
        "A spike protein binds with two others to form a trimer, which projects out from the surface of the virus.  When you see a picture or drawing of the virus that resembles a medieval mace, those are the spike protein trimers sticking out.  In electron micrographs the spike proteins form a hazy layer, or corona, surrounding the spherical virus.  The trimer can bind with a protein, **ACE2**, on the surface of lung cells.  This binding is specific for **ACE2**, which is why SARS CoV-2 attacks lung cells, but not others.  The gene is 3822 nucleotides in length.\n",
        "\n",
        "You can see that the spike protein is called a *glycoprotein*.  Proteins that are extracellular, or outside of cells, are usually coated with glycans (carbohydrates).  The glycans are thought to protect the proteins from being digested by extracellular protease enzymes.  (Recall from earlier in the semester that the A and B blood type antigens are different carbohydrates attached to the H substance.)\n",
        "\n",
        "Run the following code cell.  It will make a simple map of the spike protein gene on the SARS CoV-2 genome, which will appear in your Downloads folder.  Click on the file to see the map."
      ]
    },
    {
      "cell_type": "code",
      "metadata": {
        "id": "POLZV-HBBNTf"
      },
      "source": [
        "gd_diagram = GenomeDiagram.Diagram(\"SARS CoV-2 genome\")\n",
        "gd_track_for_features = gd_diagram.new_track(1, name=\"Annotated Features\")\n",
        "gd_feature_set = gd_track_for_features.new_set()\n",
        "gd_feature_set.add_feature(seq_record.features[34], color=colors.lightblue, label=True)\n",
        "gd_diagram.draw(\n",
        "    format=\"linear\",\n",
        "    orientation=\"landscape\",\n",
        "    pagesize=\"A4\",\n",
        "    fragments=1,\n",
        "    start=0,\n",
        "    end=len(seq_record),\n",
        ")\n",
        "\n",
        "with open('gd_diagram', 'w') as f:\n",
        "    gd_diagram.write(\"SARS-CoV-2.pdf\", \"PDF\")\n",
        "files.download(\"SARS-CoV-2.pdf\")"
      ],
      "execution_count": null,
      "outputs": []
    },
    {
      "cell_type": "markdown",
      "metadata": {
        "id": "4FCa60ZTwGdj"
      },
      "source": [
        "The light blue rectangle shows the location of the spike gene.  It is near the 3' end of the genome, consistent with its address of 21562 - 25384.\n",
        "\n",
        "You can see a structural model of the spike trimer at [PDB](https://www.rcsb.org/structure/6ZB5).  The PDB (protein data base) is a repository for protein structures, determined mostly by X-ray crystallography or cryo-electron microscopy.  In the lower left, click on *3D View: Structure*.  The protein you see comprises the three copies of the S protein, each in a different color.  If you have studied a little biochemistry, you will recognize two types of secondary structure, the alpha helix and the beta sheet.  The blue boxes dangling off the protein are the glycans.  You can rotate the structure by mousing over it, and see that it actually does have the shape of a spike."
      ]
    }
  ]
}